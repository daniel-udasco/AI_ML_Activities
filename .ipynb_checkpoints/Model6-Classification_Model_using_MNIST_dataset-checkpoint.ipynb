{
 "cells": [
  {
   "cell_type": "markdown",
   "id": "1719747c-3d6a-4937-bb71-696461a593c2",
   "metadata": {},
   "source": [
    "MODEL no.6:\n",
    "Simple Regression Model using MNIST dataset.\n",
    "Type: Multi-class Classification"
   ]
  },
  {
   "cell_type": "markdown",
   "id": "d9c36d3b-41da-4c12-8f95-2ee17a695694",
   "metadata": {},
   "source": [
    "Initialize Notebook"
   ]
  },
  {
   "cell_type": "code",
   "execution_count": 1,
   "id": "09782bad-80ba-4cee-bcdf-c3f225cc2246",
   "metadata": {},
   "outputs": [
    {
     "name": "stdout",
     "output_type": "stream",
     "text": [
      "Notebook last run (end-to-end): 2025-09-17 22:30:30.033136\n"
     ]
    }
   ],
   "source": [
    "import datetime\n",
    "print(f\"Notebook last run (end-to-end): {datetime.datetime.now()}\")"
   ]
  },
  {
   "cell_type": "markdown",
   "id": "72336b2a-58b0-47bb-abaf-468e8d6b0775",
   "metadata": {},
   "source": [
    "1. Import libraries"
   ]
  },
  {
   "cell_type": "code",
   "execution_count": 2,
   "id": "642f4a7f-63ab-4f50-be44-812ff87c63e0",
   "metadata": {},
   "outputs": [
    {
     "name": "stdout",
     "output_type": "stream",
     "text": [
      "2.20.0\n"
     ]
    }
   ],
   "source": [
    "import tensorflow as tf\n",
    "import numpy as np\n",
    "import matplotlib.pyplot as plt\n",
    "\n",
    "print(tf.__version__)"
   ]
  },
  {
   "cell_type": "markdown",
   "id": "e3656f98-c426-4da9-91ce-917adc4b9cae",
   "metadata": {},
   "source": [
    "2. Load MNIST dataset"
   ]
  },
  {
   "cell_type": "code",
   "execution_count": 3,
   "id": "6ff5e8ec-2a28-40b8-905e-fed10c878ca0",
   "metadata": {},
   "outputs": [],
   "source": [
    "from tensorflow.keras.datasets import mnist\n",
    "(train_data, train_labels), (test_data, test_labels) = mnist.load_data()"
   ]
  },
  {
   "cell_type": "markdown",
   "id": "93ffc481-983e-409e-bd8c-1b386f48e1c5",
   "metadata": {},
   "source": [
    "3. Normalize data"
   ]
  },
  {
   "cell_type": "code",
   "execution_count": 4,
   "id": "9bae1cc4-6159-486d-bfdc-47c8adb8fc01",
   "metadata": {},
   "outputs": [],
   "source": [
    "train_data = train_data / 255.0\n",
    "test_data = test_data / 255.0"
   ]
  },
  {
   "cell_type": "markdown",
   "id": "fa4f7fa4-daaa-4085-b12e-d03728d952b9",
   "metadata": {},
   "source": [
    "3.1 Print dataset shapes"
   ]
  },
  {
   "cell_type": "code",
   "execution_count": 5,
   "id": "c12389f0-3069-4668-abcd-2b5b785c0482",
   "metadata": {},
   "outputs": [
    {
     "name": "stdout",
     "output_type": "stream",
     "text": [
      "(60000, 28, 28) (60000,) (10000, 28, 28) (10000,)\n"
     ]
    }
   ],
   "source": [
    "print(train_data.shape,\n",
    "      train_labels.shape,\n",
    "      test_data.shape,\n",
    "      test_labels.shape)"
   ]
  },
  {
   "cell_type": "markdown",
   "id": "259c9005-0922-498f-883a-ed6121d130ba",
   "metadata": {},
   "source": [
    "3.2 Class names (digits)"
   ]
  },
  {
   "cell_type": "code",
   "execution_count": 6,
   "id": "af2214d1-1679-4d72-bde2-42d23e65489e",
   "metadata": {},
   "outputs": [],
   "source": [
    "class_names = [str(i) for i in range(10)]"
   ]
  },
  {
   "cell_type": "markdown",
   "id": "77ca2745-2137-4955-bb3f-a690a5fca501",
   "metadata": {},
   "source": [
    "3.3 Display sample images (of [0])"
   ]
  },
  {
   "cell_type": "code",
   "execution_count": 7,
   "id": "ee9dfe27-3e90-4bf4-9ad9-b5d1bf8b7a26",
   "metadata": {},
   "outputs": [
    {
     "data": {
      "image/png": "[encoded data removed]",
      "text/plain": [
       "<Figure size 640x480 with 1 Axes>"
      ]
     },
     "metadata": {},
     "output_type": "display_data"
    }
   ],
   "source": [
    "plt.imshow(train_data[0], cmap=plt.cm.binary)\n",
    "plt.title(f\"Label: {class_names[train_labels[0]]}\")\n",
    "plt.axis(False)\n",
    "plt.show()"
   ]
  },
  {
   "cell_type": "markdown",
   "id": "fb2b6ea0-78bb-46b2-ae42-5d50bc531d7c",
   "metadata": {},
   "source": [
    "4. Building the Model"
   ]
  },
  {
   "cell_type": "code",
   "execution_count": 8,
   "id": "4c1a8b8f-ffbe-4457-b335-4231b07a570f",
   "metadata": {},
   "outputs": [
    {
     "name": "stderr",
     "output_type": "stream",
     "text": [
      "/opt/anaconda3/envs/MLenv/lib/python3.11/site-packages/keras/src/layers/reshaping/flatten.py:37: UserWarning: Do not pass an `input_shape`/`input_dim` argument to a layer. When using Sequential models, prefer using an `Input(shape)` object as the first layer in the model instead.\n",
      "  super().__init__(**kwargs)\n"
     ]
    }
   ],
   "source": [
    "model = tf.keras.Sequential([\n",
    "    tf.keras.layers.Flatten(input_shape=(28,28)),   # flatten 28x28 → 784\n",
    "    tf.keras.layers.Dense(128, activation='relu'),\n",
    "    tf.keras.layers.Dense(10, activation='softmax') # output layer (10 classes)\n",
    "])"
   ]
  },
  {
   "cell_type": "markdown",
   "id": "7f56c341-0dd1-4059-b11f-d856b773306b",
   "metadata": {},
   "source": [
    "5. Compile the model"
   ]
  },
  {
   "cell_type": "code",
   "execution_count": 9,
   "id": "9dc08867-49d8-435f-b6d5-21a32cd201ba",
   "metadata": {},
   "outputs": [],
   "source": [
    "model.compile(\n",
    "    optimizer=tf.keras.optimizers.Adam(learning_rate=0.001),\n",
    "    loss=tf.keras.losses.SparseCategoricalCrossentropy(),\n",
    "    metrics=['accuracy']\n",
    ")"
   ]
  },
  {
   "cell_type": "markdown",
   "id": "c3f665d8-6dee-4091-a86f-39dec4ba5ccc",
   "metadata": {},
   "source": [
    "6. Training the model"
   ]
  },
  {
   "cell_type": "code",
   "execution_count": 10,
   "id": "1e08d2d7-ec7a-41c5-a69c-4b0006525f66",
   "metadata": {},
   "outputs": [
    {
     "name": "stdout",
     "output_type": "stream",
     "text": [
      "Epoch 1/10\n",
      "\u001b[1m1875/1875\u001b[0m \u001b[32m━━━━━━━━━━━━━━━━━━━━\u001b[0m\u001b[37m\u001b[0m \u001b[1m2s\u001b[0m 874us/step - accuracy: 0.9243 - loss: 0.2602 - val_accuracy: 0.9621 - val_loss: 0.1311\n",
      "Epoch 2/10\n",
      "\u001b[1m1875/1875\u001b[0m \u001b[32m━━━━━━━━━━━━━━━━━━━━\u001b[0m\u001b[37m\u001b[0m \u001b[1m2s\u001b[0m 828us/step - accuracy: 0.9662 - loss: 0.1166 - val_accuracy: 0.9672 - val_loss: 0.1095\n",
      "Epoch 3/10\n",
      "\u001b[1m1875/1875\u001b[0m \u001b[32m━━━━━━━━━━━━━━━━━━━━\u001b[0m\u001b[37m\u001b[0m \u001b[1m2s\u001b[0m 872us/step - accuracy: 0.9752 - loss: 0.0797 - val_accuracy: 0.9753 - val_loss: 0.0833\n",
      "Epoch 4/10\n",
      "\u001b[1m1875/1875\u001b[0m \u001b[32m━━━━━━━━━━━━━━━━━━━━\u001b[0m\u001b[37m\u001b[0m \u001b[1m2s\u001b[0m 828us/step - accuracy: 0.9812 - loss: 0.0614 - val_accuracy: 0.9763 - val_loss: 0.0795\n",
      "Epoch 5/10\n",
      "\u001b[1m1875/1875\u001b[0m \u001b[32m━━━━━━━━━━━━━━━━━━━━\u001b[0m\u001b[37m\u001b[0m \u001b[1m2s\u001b[0m 863us/step - accuracy: 0.9855 - loss: 0.0466 - val_accuracy: 0.9781 - val_loss: 0.0732\n",
      "Epoch 6/10\n",
      "\u001b[1m1875/1875\u001b[0m \u001b[32m━━━━━━━━━━━━━━━━━━━━\u001b[0m\u001b[37m\u001b[0m \u001b[1m2s\u001b[0m 842us/step - accuracy: 0.9882 - loss: 0.0375 - val_accuracy: 0.9784 - val_loss: 0.0703\n",
      "Epoch 7/10\n",
      "\u001b[1m1875/1875\u001b[0m \u001b[32m━━━━━━━━━━━━━━━━━━━━\u001b[0m\u001b[37m\u001b[0m \u001b[1m2s\u001b[0m 843us/step - accuracy: 0.9907 - loss: 0.0292 - val_accuracy: 0.9761 - val_loss: 0.0826\n",
      "Epoch 8/10\n",
      "\u001b[1m1875/1875\u001b[0m \u001b[32m━━━━━━━━━━━━━━━━━━━━\u001b[0m\u001b[37m\u001b[0m \u001b[1m2s\u001b[0m 849us/step - accuracy: 0.9923 - loss: 0.0247 - val_accuracy: 0.9799 - val_loss: 0.0738\n",
      "Epoch 9/10\n",
      "\u001b[1m1875/1875\u001b[0m \u001b[32m━━━━━━━━━━━━━━━━━━━━\u001b[0m\u001b[37m\u001b[0m \u001b[1m2s\u001b[0m 838us/step - accuracy: 0.9940 - loss: 0.0193 - val_accuracy: 0.9760 - val_loss: 0.0879\n",
      "Epoch 10/10\n",
      "\u001b[1m1875/1875\u001b[0m \u001b[32m━━━━━━━━━━━━━━━━━━━━\u001b[0m\u001b[37m\u001b[0m \u001b[1m2s\u001b[0m 866us/step - accuracy: 0.9945 - loss: 0.0172 - val_accuracy: 0.9787 - val_loss: 0.0855\n"
     ]
    }
   ],
   "source": [
    "history = model.fit(\n",
    "    train_data, train_labels,\n",
    "    epochs=10,\n",
    "    batch_size=32,\n",
    "    validation_data=(test_data, test_labels),\n",
    "    verbose=1\n",
    ")"
   ]
  },
  {
   "cell_type": "markdown",
   "id": "7249b0d0-ab07-4ad1-8921-e9f6147db5ca",
   "metadata": {},
   "source": [
    "6.1 Visualize training data loss"
   ]
  },
  {
   "cell_type": "code",
   "execution_count": 11,
   "id": "6dec5b66-7e90-49df-b90e-cb9bfbaf0f67",
   "metadata": {},
   "outputs": [
    {
     "data": {
      "image/png": "[encoded data removed]",
      "text/plain": [
       "<Figure size 800x500 with 1 Axes>"
      ]
     },
     "metadata": {},
     "output_type": "display_data"
    }
   ],
   "source": [
    "plt.figure(figsize=(8, 5))\n",
    "plt.plot(history.history['loss'], label=\"Training Loss (MSE)\")\n",
    "plt.title(\"Training Loss Over Epochs\")\n",
    "plt.xlabel(\"Epoch\")\n",
    "plt.ylabel(\"Loss\")\n",
    "plt.legend()\n",
    "plt.grid(True)\n",
    "plt.show()"
   ]
  },
  {
   "cell_type": "markdown",
   "id": "fd328c20-e92a-411f-bbcb-3a4707256bb5",
   "metadata": {},
   "source": [
    "7. Evaluate model"
   ]
  },
  {
   "cell_type": "code",
   "execution_count": 12,
   "id": "40897fd8-c91a-41c8-a452-39a9920ba1b7",
   "metadata": {},
   "outputs": [
    {
     "name": "stdout",
     "output_type": "stream",
     "text": [
      "Test Accuracy: 0.9787\n"
     ]
    }
   ],
   "source": [
    "test_loss, test_acc = model.evaluate(test_data, test_labels, verbose=0)\n",
    "print(f\"Test Accuracy: {test_acc:.4f}\")"
   ]
  },
  {
   "cell_type": "markdown",
   "id": "42fcb4e7-9868-4b53-b954-7a7dea4b67f9",
   "metadata": {},
   "source": [
    "8. Generate predictions on an image."
   ]
  },
  {
   "cell_type": "code",
   "execution_count": 13,
   "id": "84366eb1-4e7a-49cf-810a-e57d416e99be",
   "metadata": {},
   "outputs": [
    {
     "name": "stdout",
     "output_type": "stream",
     "text": [
      "\u001b[1m1/1\u001b[0m \u001b[32m━━━━━━━━━━━━━━━━━━━━\u001b[0m\u001b[37m\u001b[0m \u001b[1m0s\u001b[0m 20ms/step\n",
      "Predicted: 7, True: 7\n"
     ]
    }
   ],
   "source": [
    "pred_probs = model.predict(test_data[:1])\n",
    "pred_label = np.argmax(pred_probs)\n",
    "print(f\"Predicted: {class_names[pred_label]}, True: {class_names[test_labels[0]]}\")"
   ]
  }
 ],
 "metadata": {
  "kernelspec": {
   "display_name": "Python [conda env:MLenv]",
   "language": "python",
   "name": "conda-env-MLenv-py"
  },
  "language_info": {
   "codemirror_mode": {
    "name": "ipython",
    "version": 3
   },
   "file_extension": ".py",
   "mimetype": "text/x-python",
   "name": "python",
   "nbconvert_exporter": "python",
   "pygments_lexer": "ipython3",
   "version": "3.11.13"
  }
 },
 "nbformat": 4,
 "nbformat_minor": 5
}
