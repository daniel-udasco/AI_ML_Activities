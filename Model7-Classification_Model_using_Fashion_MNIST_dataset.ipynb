{
 "cells": [
  {
   "cell_type": "markdown",
   "id": "1719747c-3d6a-4937-bb71-696461a593c2",
   "metadata": {},
   "source": [
    "MODEL no.7:\n",
    "Advanced Regression Model using Fashion MNIST dataset.\n",
    "Type: Multi-class Classification"
   ]
  },
  {
   "cell_type": "markdown",
   "id": "d9c36d3b-41da-4c12-8f95-2ee17a695694",
   "metadata": {},
   "source": [
    "Initialize Notebook"
   ]
  },
  {
   "cell_type": "code",
   "execution_count": 1,
   "id": "09782bad-80ba-4cee-bcdf-c3f225cc2246",
   "metadata": {},
   "outputs": [
    {
     "name": "stdout",
     "output_type": "stream",
     "text": [
      "Notebook last run (end-to-end): 2025-09-17 22:33:16.090353\n"
     ]
    }
   ],
   "source": [
    "import datetime\n",
    "print(f\"Notebook last run (end-to-end): {datetime.datetime.now()}\")"
   ]
  },
  {
   "cell_type": "markdown",
   "id": "72336b2a-58b0-47bb-abaf-468e8d6b0775",
   "metadata": {},
   "source": [
    "1. Import libraries"
   ]
  },
  {
   "cell_type": "code",
   "execution_count": 2,
   "id": "642f4a7f-63ab-4f50-be44-812ff87c63e0",
   "metadata": {},
   "outputs": [
    {
     "name": "stdout",
     "output_type": "stream",
     "text": [
      "2.20.0\n"
     ]
    }
   ],
   "source": [
    "import tensorflow as tf\n",
    "import numpy as np\n",
    "import matplotlib.pyplot as plt\n",
    "\n",
    "print(tf.__version__)"
   ]
  },
  {
   "cell_type": "markdown",
   "id": "e3656f98-c426-4da9-91ce-917adc4b9cae",
   "metadata": {},
   "source": [
    "2. Load Fashion MNIST dataset"
   ]
  },
  {
   "cell_type": "code",
   "execution_count": 3,
   "id": "6ff5e8ec-2a28-40b8-905e-fed10c878ca0",
   "metadata": {},
   "outputs": [],
   "source": [
    "from tensorflow.keras.datasets import fashion_mnist\n",
    "(train_data, train_labels), (test_data, test_labels) = fashion_mnist.load_data()"
   ]
  },
  {
   "cell_type": "markdown",
   "id": "93ffc481-983e-409e-bd8c-1b386f48e1c5",
   "metadata": {},
   "source": [
    "3. Normalize data"
   ]
  },
  {
   "cell_type": "code",
   "execution_count": 4,
   "id": "9bae1cc4-6159-486d-bfdc-47c8adb8fc01",
   "metadata": {},
   "outputs": [],
   "source": [
    "train_data = train_data / 255.0\n",
    "test_data = test_data / 255.0"
   ]
  },
  {
   "cell_type": "markdown",
   "id": "fa4f7fa4-daaa-4085-b12e-d03728d952b9",
   "metadata": {},
   "source": [
    "3.1 Print dataset shapes"
   ]
  },
  {
   "cell_type": "code",
   "execution_count": 5,
   "id": "c12389f0-3069-4668-abcd-2b5b785c0482",
   "metadata": {},
   "outputs": [
    {
     "name": "stdout",
     "output_type": "stream",
     "text": [
      "(60000, 28, 28) (60000,) (10000, 28, 28) (10000,)\n"
     ]
    }
   ],
   "source": [
    "print(train_data.shape,\n",
    "      train_labels.shape,\n",
    "      test_data.shape,\n",
    "      test_labels.shape)"
   ]
  },
  {
   "cell_type": "markdown",
   "id": "259c9005-0922-498f-883a-ed6121d130ba",
   "metadata": {},
   "source": [
    "3.2 Class names (clothing category)"
   ]
  },
  {
   "cell_type": "code",
   "execution_count": 6,
   "id": "af2214d1-1679-4d72-bde2-42d23e65489e",
   "metadata": {},
   "outputs": [],
   "source": [
    "class_names = ['T-shirt/top','Trouser','Pullover','Dress','Coat',\n",
    "               'Sandal','Shirt','Sneaker','Bag','Ankle boot']"
   ]
  },
  {
   "cell_type": "markdown",
   "id": "77ca2745-2137-4955-bb3f-a690a5fca501",
   "metadata": {},
   "source": [
    "3.3 Display sample images (of [0])"
   ]
  },
  {
   "cell_type": "code",
   "execution_count": 7,
   "id": "ee9dfe27-3e90-4bf4-9ad9-b5d1bf8b7a26",
   "metadata": {},
   "outputs": [
    {
     "data": {
      "image/png": "[encoded data removed]",
      "text/plain": [
       "<Figure size 640x480 with 1 Axes>"
      ]
     },
     "metadata": {},
     "output_type": "display_data"
    }
   ],
   "source": [
    "plt.imshow(train_data[0], cmap=plt.cm.binary)\n",
    "plt.title(f\"Label: {class_names[train_labels[0]]}\")\n",
    "plt.axis(False)\n",
    "plt.show()"
   ]
  },
  {
   "cell_type": "markdown",
   "id": "fb2b6ea0-78bb-46b2-ae42-5d50bc531d7c",
   "metadata": {},
   "source": [
    "4. Building the Model"
   ]
  },
  {
   "cell_type": "code",
   "execution_count": 8,
   "id": "4c1a8b8f-ffbe-4457-b335-4231b07a570f",
   "metadata": {},
   "outputs": [
    {
     "name": "stderr",
     "output_type": "stream",
     "text": [
      "/opt/anaconda3/envs/MLenv/lib/python3.11/site-packages/keras/src/layers/reshaping/flatten.py:37: UserWarning: Do not pass an `input_shape`/`input_dim` argument to a layer. When using Sequential models, prefer using an `Input(shape)` object as the first layer in the model instead.\n",
      "  super().__init__(**kwargs)\n"
     ]
    }
   ],
   "source": [
    "model = tf.keras.Sequential([\n",
    "    tf.keras.layers.Flatten(input_shape=(28,28)),\n",
    "    tf.keras.layers.Dense(256, activation='relu'),\n",
    "    tf.keras.layers.Dropout(0.3),\n",
    "    tf.keras.layers.Dense(128, activation='relu'),\n",
    "    tf.keras.layers.Dense(64, activation='relu'),\n",
    "    tf.keras.layers.Dense(10, activation='softmax')\n",
    "])"
   ]
  },
  {
   "cell_type": "markdown",
   "id": "7f56c341-0dd1-4059-b11f-d856b773306b",
   "metadata": {},
   "source": [
    "5. Compile the model"
   ]
  },
  {
   "cell_type": "code",
   "execution_count": 9,
   "id": "9dc08867-49d8-435f-b6d5-21a32cd201ba",
   "metadata": {},
   "outputs": [],
   "source": [
    "model.compile(\n",
    "    optimizer=tf.keras.optimizers.Adam(learning_rate=0.001),\n",
    "    loss=tf.keras.losses.SparseCategoricalCrossentropy(),\n",
    "    metrics=['accuracy']\n",
    ")"
   ]
  },
  {
   "cell_type": "markdown",
   "id": "c3f665d8-6dee-4091-a86f-39dec4ba5ccc",
   "metadata": {},
   "source": [
    "6. Training the model"
   ]
  },
  {
   "cell_type": "code",
   "execution_count": 10,
   "id": "1e08d2d7-ec7a-41c5-a69c-4b0006525f66",
   "metadata": {},
   "outputs": [
    {
     "name": "stdout",
     "output_type": "stream",
     "text": [
      "Epoch 1/30\n",
      "\u001b[1m938/938\u001b[0m \u001b[32m━━━━━━━━━━━━━━━━━━━━\u001b[0m\u001b[37m\u001b[0m \u001b[1m2s\u001b[0m 2ms/step - accuracy: 0.8008 - loss: 0.5516 - val_accuracy: 0.8305 - val_loss: 0.4582\n",
      "Epoch 2/30\n",
      "\u001b[1m938/938\u001b[0m \u001b[32m━━━━━━━━━━━━━━━━━━━━\u001b[0m\u001b[37m\u001b[0m \u001b[1m2s\u001b[0m 2ms/step - accuracy: 0.8509 - loss: 0.4079 - val_accuracy: 0.8611 - val_loss: 0.3895\n",
      "Epoch 3/30\n",
      "\u001b[1m938/938\u001b[0m \u001b[32m━━━━━━━━━━━━━━━━━━━━\u001b[0m\u001b[37m\u001b[0m \u001b[1m2s\u001b[0m 2ms/step - accuracy: 0.8617 - loss: 0.3754 - val_accuracy: 0.8669 - val_loss: 0.3698\n",
      "Epoch 4/30\n",
      "\u001b[1m938/938\u001b[0m \u001b[32m━━━━━━━━━━━━━━━━━━━━\u001b[0m\u001b[37m\u001b[0m \u001b[1m2s\u001b[0m 2ms/step - accuracy: 0.8696 - loss: 0.3534 - val_accuracy: 0.8692 - val_loss: 0.3593\n",
      "Epoch 5/30\n",
      "\u001b[1m938/938\u001b[0m \u001b[32m━━━━━━━━━━━━━━━━━━━━\u001b[0m\u001b[37m\u001b[0m \u001b[1m2s\u001b[0m 2ms/step - accuracy: 0.8741 - loss: 0.3373 - val_accuracy: 0.8779 - val_loss: 0.3377\n",
      "Epoch 6/30\n",
      "\u001b[1m938/938\u001b[0m \u001b[32m━━━━━━━━━━━━━━━━━━━━\u001b[0m\u001b[37m\u001b[0m \u001b[1m2s\u001b[0m 2ms/step - accuracy: 0.8797 - loss: 0.3242 - val_accuracy: 0.8691 - val_loss: 0.3567\n",
      "Epoch 7/30\n",
      "\u001b[1m938/938\u001b[0m \u001b[32m━━━━━━━━━━━━━━━━━━━━\u001b[0m\u001b[37m\u001b[0m \u001b[1m2s\u001b[0m 2ms/step - accuracy: 0.8821 - loss: 0.3172 - val_accuracy: 0.8787 - val_loss: 0.3387\n",
      "Epoch 8/30\n",
      "\u001b[1m938/938\u001b[0m \u001b[32m━━━━━━━━━━━━━━━━━━━━\u001b[0m\u001b[37m\u001b[0m \u001b[1m2s\u001b[0m 2ms/step - accuracy: 0.8861 - loss: 0.3040 - val_accuracy: 0.8817 - val_loss: 0.3332\n",
      "Epoch 9/30\n",
      "\u001b[1m938/938\u001b[0m \u001b[32m━━━━━━━━━━━━━━━━━━━━\u001b[0m\u001b[37m\u001b[0m \u001b[1m2s\u001b[0m 2ms/step - accuracy: 0.8881 - loss: 0.2974 - val_accuracy: 0.8820 - val_loss: 0.3358\n",
      "Epoch 10/30\n",
      "\u001b[1m938/938\u001b[0m \u001b[32m━━━━━━━━━━━━━━━━━━━━\u001b[0m\u001b[37m\u001b[0m \u001b[1m2s\u001b[0m 2ms/step - accuracy: 0.8903 - loss: 0.2900 - val_accuracy: 0.8781 - val_loss: 0.3313\n",
      "Epoch 11/30\n",
      "\u001b[1m938/938\u001b[0m \u001b[32m━━━━━━━━━━━━━━━━━━━━\u001b[0m\u001b[37m\u001b[0m \u001b[1m2s\u001b[0m 2ms/step - accuracy: 0.8925 - loss: 0.2837 - val_accuracy: 0.8811 - val_loss: 0.3329\n",
      "Epoch 12/30\n",
      "\u001b[1m938/938\u001b[0m \u001b[32m━━━━━━━━━━━━━━━━━━━━\u001b[0m\u001b[37m\u001b[0m \u001b[1m2s\u001b[0m 2ms/step - accuracy: 0.8945 - loss: 0.2774 - val_accuracy: 0.8857 - val_loss: 0.3238\n",
      "Epoch 13/30\n",
      "\u001b[1m938/938\u001b[0m \u001b[32m━━━━━━━━━━━━━━━━━━━━\u001b[0m\u001b[37m\u001b[0m \u001b[1m2s\u001b[0m 2ms/step - accuracy: 0.8968 - loss: 0.2734 - val_accuracy: 0.8814 - val_loss: 0.3292\n",
      "Epoch 14/30\n",
      "\u001b[1m938/938\u001b[0m \u001b[32m━━━━━━━━━━━━━━━━━━━━\u001b[0m\u001b[37m\u001b[0m \u001b[1m2s\u001b[0m 2ms/step - accuracy: 0.8985 - loss: 0.2681 - val_accuracy: 0.8823 - val_loss: 0.3380\n",
      "Epoch 15/30\n",
      "\u001b[1m938/938\u001b[0m \u001b[32m━━━━━━━━━━━━━━━━━━━━\u001b[0m\u001b[37m\u001b[0m \u001b[1m2s\u001b[0m 2ms/step - accuracy: 0.9009 - loss: 0.2626 - val_accuracy: 0.8860 - val_loss: 0.3115\n",
      "Epoch 16/30\n",
      "\u001b[1m938/938\u001b[0m \u001b[32m━━━━━━━━━━━━━━━━━━━━\u001b[0m\u001b[37m\u001b[0m \u001b[1m2s\u001b[0m 2ms/step - accuracy: 0.9014 - loss: 0.2600 - val_accuracy: 0.8888 - val_loss: 0.3112\n",
      "Epoch 17/30\n",
      "\u001b[1m938/938\u001b[0m \u001b[32m━━━━━━━━━━━━━━━━━━━━\u001b[0m\u001b[37m\u001b[0m \u001b[1m2s\u001b[0m 2ms/step - accuracy: 0.9030 - loss: 0.2547 - val_accuracy: 0.8899 - val_loss: 0.3128\n",
      "Epoch 18/30\n",
      "\u001b[1m938/938\u001b[0m \u001b[32m━━━━━━━━━━━━━━━━━━━━\u001b[0m\u001b[37m\u001b[0m \u001b[1m2s\u001b[0m 2ms/step - accuracy: 0.9041 - loss: 0.2498 - val_accuracy: 0.8877 - val_loss: 0.3227\n",
      "Epoch 19/30\n",
      "\u001b[1m938/938\u001b[0m \u001b[32m━━━━━━━━━━━━━━━━━━━━\u001b[0m\u001b[37m\u001b[0m \u001b[1m2s\u001b[0m 2ms/step - accuracy: 0.9055 - loss: 0.2481 - val_accuracy: 0.8873 - val_loss: 0.3253\n",
      "Epoch 20/30\n",
      "\u001b[1m938/938\u001b[0m \u001b[32m━━━━━━━━━━━━━━━━━━━━\u001b[0m\u001b[37m\u001b[0m \u001b[1m2s\u001b[0m 2ms/step - accuracy: 0.9069 - loss: 0.2431 - val_accuracy: 0.8923 - val_loss: 0.3122\n",
      "Epoch 21/30\n",
      "\u001b[1m938/938\u001b[0m \u001b[32m━━━━━━━━━━━━━━━━━━━━\u001b[0m\u001b[37m\u001b[0m \u001b[1m2s\u001b[0m 2ms/step - accuracy: 0.9084 - loss: 0.2400 - val_accuracy: 0.8909 - val_loss: 0.3085\n",
      "Epoch 22/30\n",
      "\u001b[1m938/938\u001b[0m \u001b[32m━━━━━━━━━━━━━━━━━━━━\u001b[0m\u001b[37m\u001b[0m \u001b[1m2s\u001b[0m 2ms/step - accuracy: 0.9107 - loss: 0.2365 - val_accuracy: 0.8924 - val_loss: 0.3102\n",
      "Epoch 23/30\n",
      "\u001b[1m938/938\u001b[0m \u001b[32m━━━━━━━━━━━━━━━━━━━━\u001b[0m\u001b[37m\u001b[0m \u001b[1m2s\u001b[0m 2ms/step - accuracy: 0.9109 - loss: 0.2331 - val_accuracy: 0.8897 - val_loss: 0.3125\n",
      "Epoch 24/30\n",
      "\u001b[1m938/938\u001b[0m \u001b[32m━━━━━━━━━━━━━━━━━━━━\u001b[0m\u001b[37m\u001b[0m \u001b[1m2s\u001b[0m 2ms/step - accuracy: 0.9119 - loss: 0.2290 - val_accuracy: 0.8926 - val_loss: 0.3246\n",
      "Epoch 25/30\n",
      "\u001b[1m938/938\u001b[0m \u001b[32m━━━━━━━━━━━━━━━━━━━━\u001b[0m\u001b[37m\u001b[0m \u001b[1m2s\u001b[0m 2ms/step - accuracy: 0.9129 - loss: 0.2281 - val_accuracy: 0.8925 - val_loss: 0.3047\n",
      "Epoch 26/30\n",
      "\u001b[1m938/938\u001b[0m \u001b[32m━━━━━━━━━━━━━━━━━━━━\u001b[0m\u001b[37m\u001b[0m \u001b[1m2s\u001b[0m 2ms/step - accuracy: 0.9142 - loss: 0.2229 - val_accuracy: 0.8923 - val_loss: 0.3231\n",
      "Epoch 27/30\n",
      "\u001b[1m938/938\u001b[0m \u001b[32m━━━━━━━━━━━━━━━━━━━━\u001b[0m\u001b[37m\u001b[0m \u001b[1m2s\u001b[0m 2ms/step - accuracy: 0.9147 - loss: 0.2223 - val_accuracy: 0.8949 - val_loss: 0.3152\n",
      "Epoch 28/30\n",
      "\u001b[1m938/938\u001b[0m \u001b[32m━━━━━━━━━━━━━━━━━━━━\u001b[0m\u001b[37m\u001b[0m \u001b[1m2s\u001b[0m 2ms/step - accuracy: 0.9165 - loss: 0.2182 - val_accuracy: 0.8902 - val_loss: 0.3144\n",
      "Epoch 29/30\n",
      "\u001b[1m938/938\u001b[0m \u001b[32m━━━━━━━━━━━━━━━━━━━━\u001b[0m\u001b[37m\u001b[0m \u001b[1m2s\u001b[0m 2ms/step - accuracy: 0.9162 - loss: 0.2170 - val_accuracy: 0.8866 - val_loss: 0.3287\n",
      "Epoch 30/30\n",
      "\u001b[1m938/938\u001b[0m \u001b[32m━━━━━━━━━━━━━━━━━━━━\u001b[0m\u001b[37m\u001b[0m \u001b[1m2s\u001b[0m 2ms/step - accuracy: 0.9176 - loss: 0.2127 - val_accuracy: 0.8992 - val_loss: 0.3155\n"
     ]
    }
   ],
   "source": [
    "history = model.fit(\n",
    "    train_data, train_labels,\n",
    "    epochs=30,\n",
    "    batch_size=64,\n",
    "    validation_data=(test_data, test_labels),\n",
    "    verbose=1\n",
    ")"
   ]
  },
  {
   "cell_type": "markdown",
   "id": "7249b0d0-ab07-4ad1-8921-e9f6147db5ca",
   "metadata": {},
   "source": [
    "6.1 Visualize accuracy and data loss"
   ]
  },
  {
   "cell_type": "code",
   "execution_count": 11,
   "id": "6dec5b66-7e90-49df-b90e-cb9bfbaf0f67",
   "metadata": {},
   "outputs": [
    {
     "data": {
      "image/png": "[encoded data removed]",
      "text/plain": [
       "<Figure size 1000x400 with 2 Axes>"
      ]
     },
     "metadata": {},
     "output_type": "display_data"
    }
   ],
   "source": [
    "plt.figure(figsize=(10,4))\n",
    "plt.subplot(1,2,1)\n",
    "plt.plot(history.history['accuracy'], label='train_acc')\n",
    "plt.plot(history.history['val_accuracy'], label='val_acc')\n",
    "plt.title(\"Accuracy\")\n",
    "plt.legend()\n",
    "plt.subplot(1,2,2)\n",
    "plt.plot(history.history['loss'], label='train_loss')\n",
    "plt.plot(history.history['val_loss'], label='val_loss')\n",
    "plt.title(\"Loss\")\n",
    "plt.legend()\n",
    "plt.show()"
   ]
  },
  {
   "cell_type": "markdown",
   "id": "fd328c20-e92a-411f-bbcb-3a4707256bb5",
   "metadata": {},
   "source": [
    "7. Evaluate model"
   ]
  },
  {
   "cell_type": "code",
   "execution_count": 12,
   "id": "40897fd8-c91a-41c8-a452-39a9920ba1b7",
   "metadata": {},
   "outputs": [
    {
     "name": "stdout",
     "output_type": "stream",
     "text": [
      "Test Accuracy: 0.8992\n"
     ]
    }
   ],
   "source": [
    "test_loss, test_acc = model.evaluate(test_data, test_labels, verbose=0)\n",
    "print(f\"Test Accuracy: {test_acc:.4f}\")"
   ]
  },
  {
   "cell_type": "markdown",
   "id": "42fcb4e7-9868-4b53-b954-7a7dea4b67f9",
   "metadata": {},
   "source": [
    "8. Generate predictions on an image (of [0])"
   ]
  },
  {
   "cell_type": "code",
   "execution_count": 13,
   "id": "84366eb1-4e7a-49cf-810a-e57d416e99be",
   "metadata": {},
   "outputs": [
    {
     "name": "stdout",
     "output_type": "stream",
     "text": [
      "\u001b[1m1/1\u001b[0m \u001b[32m━━━━━━━━━━━━━━━━━━━━\u001b[0m\u001b[37m\u001b[0m \u001b[1m0s\u001b[0m 26ms/step\n",
      "Predicted: Ankle boot, True: Ankle boot\n"
     ]
    }
   ],
   "source": [
    "pred_probs = model.predict(test_data[:1])\n",
    "pred_label = np.argmax(pred_probs)\n",
    "print(f\"Predicted: {class_names[pred_label]}, True: {class_names[test_labels[0]]}\")"
   ]
  }
 ],
 "metadata": {
  "kernelspec": {
   "display_name": "Python [conda env:MLenv]",
   "language": "python",
   "name": "conda-env-MLenv-py"
  },
  "language_info": {
   "codemirror_mode": {
    "name": "ipython",
    "version": 3
   },
   "file_extension": ".py",
   "mimetype": "text/x-python",
   "name": "python",
   "nbconvert_exporter": "python",
   "pygments_lexer": "ipython3",
   "version": "3.11.13"
  }
 },
 "nbformat": 4,
 "nbformat_minor": 5
}
